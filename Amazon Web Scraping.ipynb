{
 "cells": [
  {
   "cell_type": "code",
   "execution_count": 83,
   "metadata": {},
   "outputs": [],
   "source": [
    "# import libraries \n",
    "from bs4 import BeautifulSoup\n",
    "import requests\n",
    "import time\n",
    "import datetime\n",
    "import csv\n",
    "\n",
    "# to send emails \n",
    "import smtplib \n",
    "from email.message import EmailMessage"
   ]
  },
  {
   "cell_type": "code",
   "execution_count": 51,
   "metadata": {},
   "outputs": [
    {
     "name": "stdout",
     "output_type": "stream",
     "text": [
      "PlayStation 4 Slim 1TB Console\n",
      "499.00\n"
     ]
    }
   ],
   "source": [
    "# to connect to the website \n",
    "\n",
    "def source_price():\n",
    "    #website url\n",
    "    url=\"https://www.amazon.com/PlayStation-4-Slim-1TB-Console/dp/B071CV8CG2/ref=sr_1_2?dchild=1&keywords=ps%2B4&qid=1634567224&sr=8-2&th=1\"\n",
    "\n",
    "    # header\n",
    "    headers={\"User-Agent\": \"Mozilla/5.0 (Windows NT 10.0; Win64; x64) AppleWebKit/537.36 (KHTML, like Gecko) Chrome/94.0.4606.81 Safari/537.36,(KHTML, like Gecko) Chrome/78.0.3904.108 Safari/537.36\", \"Accept-Encoding\":\"gzip, deflate\", \"Accept\":\"text/html,application/xhtml+xml,application/xml;q=0.9,*/*;q=0.8\", \"DNT\":\"1\",\"Connection\":\"close\", \"Upgrade-Insecure-Requests\":\"1\"}\n",
    "\n",
    "    page= requests.get(url, headers=headers)\n",
    "\n",
    "    soup = BeautifulSoup(page.content, \"html.parser\")\n",
    "    soups= BeautifulSoup(soup.prettify(),\"html.parser\")\n",
    "\n",
    "    # to get title of product \n",
    "    title = soups.find(id=\"productTitle\").get_text()\n",
    "\n",
    "    # to get price of product\n",
    "    price=soups.find(id=\"priceblock_ourprice\").get_text()\n",
    "    \n",
    "    title=title.strip()\n",
    "    price=price.strip()[1:]\n",
    "    \n",
    "    print(title)\n",
    "    print(price)\n",
    "    \n",
    "    # get date stamp\n",
    "    today = datetime.date.today()\n",
    "    \n",
    "    \n",
    "    header = ['Title', 'Price', 'Date']\n",
    "    data = [title, price, today]\n",
    "    \n",
    "    # write data to csv file\n",
    "    with open('Amazonps5Dataset.csv', 'a+', newline='', encoding='UTF8') as f:\n",
    "        writer = csv.writer(f)\n",
    "        writer.writerow(data)\n",
    "\n",
    "source_price()\n",
    "    "
   ]
  },
  {
   "cell_type": "code",
   "execution_count": 88,
   "metadata": {},
   "outputs": [],
   "source": [
    "# to get update \n",
    "def get_update():\n",
    "    EmailAdd = \"olusimeon4@gmail.com\" #senders Gmail id over here\n",
    "    Pass = \"Awesome@2021\" #senders Gmail's Password over here \n",
    "\n",
    "    msg = EmailMessage()\n",
    "    msg['Subject'] = \"Update on PS 4 console price\" # Subject of Email\n",
    "    msg['From'] = EmailAdd\n",
    "    msg['To'] = 'olusimeon4@gmail.com','johnayo103@gmail.com','esoteric4real@gmail.com' # Reciver of the Mail\n",
    "    msg.set_content('''\n",
    "    Dear All,\n",
    "    The ps4  Slim Console you want is below $499! \n",
    "    \n",
    "    Now you have a chance to buy at a cheaper price !\n",
    "    \n",
    "    Even though ps5 is out. \n",
    "    \n",
    "    Don't mess it up! Link here: \"https://www.amazon.com/PlayStation-4-Slim-1TB-Console/dp/B071CV8CG2/ref=sr_1_2?dchild=1&keywords=ps%2B4&qid=1634567224&sr=8-2&th=1\n",
    "    ''') \n",
    "    \n",
    "    # Email body or Content\n",
    "\n",
    "    with smtplib.SMTP_SSL('smtp.gmail.com',465) as smtp: #Added Gmails SMTP Server\n",
    "        smtp.login(EmailAdd,Pass) #This command Login SMTP Library using your GMAIL\n",
    "        smtp.send_message(msg) #This Sends the message\n",
    "get_update()"
   ]
  },
  {
   "cell_type": "code",
   "execution_count": null,
   "metadata": {},
   "outputs": [],
   "source": []
  },
  {
   "cell_type": "code",
   "execution_count": null,
   "metadata": {},
   "outputs": [],
   "source": []
  }
 ],
 "metadata": {
  "kernelspec": {
   "display_name": "Python 3",
   "language": "python",
   "name": "python3"
  },
  "language_info": {
   "codemirror_mode": {
    "name": "ipython",
    "version": 3
   },
   "file_extension": ".py",
   "mimetype": "text/x-python",
   "name": "python",
   "nbconvert_exporter": "python",
   "pygments_lexer": "ipython3",
   "version": "3.8.5"
  }
 },
 "nbformat": 4,
 "nbformat_minor": 4
}
